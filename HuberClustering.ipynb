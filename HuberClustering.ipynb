{
  "nbformat": 4,
  "nbformat_minor": 0,
  "metadata": {
    "colab": {
      "name": "HuberClustering.ipynb",
      "provenance": [],
      "collapsed_sections": [],
      "authorship_tag": "ABX9TyPBerP5odjntJBJ3cReqEyz",
      "include_colab_link": true
    },
    "kernelspec": {
      "name": "python3",
      "display_name": "Python 3"
    }
  },
  "cells": [
    {
      "cell_type": "markdown",
      "metadata": {
        "id": "view-in-github",
        "colab_type": "text"
      },
      "source": [
        "<a href=\"https://colab.research.google.com/github/maciejskorski/huber_clustering/blob/main/HuberClustering.ipynb\" target=\"_parent\"><img src=\"https://colab.research.google.com/assets/colab-badge.svg\" alt=\"Open In Colab\"/></a>"
      ]
    },
    {
      "cell_type": "markdown",
      "metadata": {
        "id": "2OKIxOa2M3Z6"
      },
      "source": [
        "# Soft Huber Clustering\n",
        "\n",
        "This notebook demonstrates a soft-clustering technique, based on the likelihood inspired by the Huber function. As demonstrated on datasets, this can outperform popular clustering techniques inspired by gaussian assumptions (KMeans, GaussianMixtures)."
      ]
    },
    {
      "cell_type": "code",
      "metadata": {
        "colab": {
          "base_uri": "https://localhost:8080/"
        },
        "id": "h7btPn_aEm57",
        "outputId": "10172508-24aa-436e-80e7-046a9179b857"
      },
      "source": [
        "!git clone https://github.com/maciejskorski/huber_clustering.git\n",
        "%cd huber_clustering"
      ],
      "execution_count": 1,
      "outputs": [
        {
          "output_type": "stream",
          "text": [
            "Cloning into 'huber_clustering'...\n",
            "remote: Enumerating objects: 42, done.\u001b[K\n",
            "remote: Counting objects: 100% (42/42), done.\u001b[K\n",
            "remote: Compressing objects: 100% (36/36), done.\u001b[K\n",
            "remote: Total 42 (delta 10), reused 16 (delta 2), pack-reused 0\u001b[K\n",
            "Unpacking objects: 100% (42/42), done.\n",
            "/content/huber_clustering\n"
          ],
          "name": "stdout"
        }
      ]
    },
    {
      "cell_type": "markdown",
      "metadata": {
        "id": "to20UMD_IhRz"
      },
      "source": [
        "# Huber Clustering and Benchmarks\n",
        "\n",
        "We fit the model on few datasets and score using the ARI goodness-of-fit.\n",
        "The result are compared with KMeans and GaussianMixtures. \n",
        "\n",
        "Note: In the current implementation the Huber model is spherical (one scale for all features) and should be compared with spherical Gaussian Mixtures, but ocassionaly performs better then diagonal GaussianMixtures!"
      ]
    },
    {
      "cell_type": "code",
      "metadata": {
        "id": "ssoNMWfxIy9W"
      },
      "source": [
        "from sklearn import datasets\n",
        "import numpy as np\n",
        "import pandas as pd\n",
        "\n",
        "from HuberMixtures import HuberMixture\n",
        "from sklearn.cluster import KMeans\n",
        "from sklearn.mixture import GaussianMixture\n",
        "\n",
        "from sklearn.metrics.cluster import adjusted_rand_score,adjusted_rand_score"
      ],
      "execution_count": 2,
      "outputs": []
    },
    {
      "cell_type": "markdown",
      "metadata": {
        "id": "RqAmhy3RIsqB"
      },
      "source": [
        "## Dataset: Iris"
      ]
    },
    {
      "cell_type": "code",
      "metadata": {
        "colab": {
          "base_uri": "https://localhost:8080/"
        },
        "id": "AxHOJXXAHH3_",
        "outputId": "2a63e760-0559-4bf2-8e00-7571d3acfac0"
      },
      "source": [
        "data = datasets.load_iris()\n",
        "X,y = data.data.astype('float32'), data.target.astype('int32')\n",
        "X = (X-X.mean(0))/X.std(0)\n",
        "n_classes = len(np.unique(y))\n",
        "\n",
        "print( adjusted_rand_score(y,HuberMixture(n_classes,huber_scale=0.25).fit_predict(X).argmax(1)) )\n",
        "print( adjusted_rand_score(y,KMeans(n_classes).fit_predict(X)) )\n",
        "print( adjusted_rand_score(y,GaussianMixture(n_classes,covariance_type='spherical').fit_predict(X)) )"
      ],
      "execution_count": 3,
      "outputs": [
        {
          "output_type": "stream",
          "text": [
            "0.6638956080488512\n",
            "0.6201351808870379\n",
            "0.6217034719190815\n"
          ],
          "name": "stdout"
        }
      ]
    },
    {
      "cell_type": "markdown",
      "metadata": {
        "id": "4pkNwcV8L5UG"
      },
      "source": [
        "## Dataset: Breast Cancer"
      ]
    },
    {
      "cell_type": "code",
      "metadata": {
        "colab": {
          "base_uri": "https://localhost:8080/"
        },
        "id": "t2kalSc1KMjs",
        "outputId": "07650d9d-608e-40df-a285-8722069e1636"
      },
      "source": [
        "data = datasets.load_breast_cancer()\n",
        "X,y = data.data.astype('float32'), data.target.astype('int32')\n",
        "X = (X-X.mean(0))/X.std(0)\n",
        "n_classes = len(np.unique(y))\n",
        "\n",
        "print( adjusted_rand_score(y,HuberMixture(n_classes,huber_scale=0.5).fit_predict(X,n_iter=50).argmax(1)) )\n",
        "print( adjusted_rand_score(y,KMeans(n_classes).fit_predict(X)) )\n",
        "print( adjusted_rand_score(y,GaussianMixture(n_classes,covariance_type='diag').fit_predict(X)) )"
      ],
      "execution_count": 4,
      "outputs": [
        {
          "output_type": "stream",
          "text": [
            "0.7302553422550654\n",
            "0.6707206476880808\n",
            "0.6779411384513467\n"
          ],
          "name": "stdout"
        }
      ]
    },
    {
      "cell_type": "markdown",
      "metadata": {
        "id": "jDoTTUhjNt7U"
      },
      "source": [
        "## Dataset: Digits (from MNIST)"
      ]
    },
    {
      "cell_type": "code",
      "metadata": {
        "colab": {
          "base_uri": "https://localhost:8080/"
        },
        "id": "pIRALrtTMpdR",
        "outputId": "67287778-fd8c-45b4-e390-2b6a7dc58304"
      },
      "source": [
        "data = datasets.load_digits()\n",
        "X,y = data.data.astype('float32'), data.target.astype('int32')\n",
        "X = (X-X.mean(0))/(1e-6+X.std(0))\n",
        "n_classes = len(np.unique(y))\n",
        "\n",
        "print( adjusted_rand_score(y,HuberMixture(n_classes,huber_scale=0.25).fit_predict(X).argmax(1)) )\n",
        "print( adjusted_rand_score(y,KMeans(n_classes).fit_predict(X)) )\n",
        "print( adjusted_rand_score(y,GaussianMixture(n_classes,covariance_type='diag').fit_predict(X)) )"
      ],
      "execution_count": 5,
      "outputs": [
        {
          "output_type": "stream",
          "text": [
            "0.564923306448209\n",
            "0.46688023827202596\n",
            "0.24563721647313141\n"
          ],
          "name": "stdout"
        }
      ]
    }
  ]
}